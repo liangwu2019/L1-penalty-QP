{
 "cells": [
  {
   "cell_type": "code",
   "execution_count": 7,
   "metadata": {},
   "outputs": [
    {
     "data": {
      "text/plain": [
       "call_vecLDL_AVX_Unroll (generic function with 1 method)"
      ]
     },
     "metadata": {},
     "output_type": "display_data"
    }
   ],
   "source": [
    "const chol_lib = \"./chol.so\"\n",
    "function call_chol(D::Array{Float64,2}, V::Array{Float64,2}, w::Array{Float64,1}, m::Int, n::Int)\n",
    "    u = Array{Float64,1}(undef,n)\n",
    "    run_time = Array{Float64,}(undef,1)\n",
    "    ccall(\n",
    "        (:chol, chol_lib),\n",
    "        Cvoid,\n",
    "        (Ptr{Cdouble}, Ptr{Cdouble}, Ptr{Cdouble}, Cint, Cint, Ptr{Cdouble}, Ptr{Cdouble}),\n",
    "        D, V, w, m, n, u, run_time\n",
    "    )\n",
    "    return u, run_time    \n",
    "end\n",
    "\n",
    "const prodLDL_lib = \"./prodLDL.so\"\n",
    "function call_prodLDL(D::Array{Float64,2}, V::Array{Float64,2}, w::Array{Float64,1}, m::Int, n::Int)\n",
    "    u = Array{Float64,1}(undef,n)\n",
    "    run_time = Array{Float64,}(undef,1)\n",
    "    ccall(\n",
    "        (:prodLDL, prodLDL_lib),\n",
    "        Cvoid,\n",
    "        (Ptr{Cdouble}, Ptr{Cdouble}, Ptr{Cdouble}, Cint, Cint, Ptr{Cdouble}, Ptr{Cdouble}),\n",
    "        D, V, w, m, n, u, run_time\n",
    "    )\n",
    "    return u, run_time    \n",
    "end\n",
    "\n",
    "\n",
    "const vecLDL_AVX_OpenMP_lib = \"./vecLDL_AVX_OpenMP.so\"\n",
    "function call_vecLDL_AVX_OpenMP(D::Array{Float64,2}, V::Array{Float64,2}, w::Array{Float64,1}, m::Int, n::Int)\n",
    "    u = Array{Float64,1}(undef,n)\n",
    "    run_time = Array{Float64,}(undef,1)\n",
    "    ccall(\n",
    "        (:vecLDL_AVX_OpenMP, vecLDL_AVX_OpenMP_lib),\n",
    "        Cvoid,\n",
    "        (Ptr{Cdouble}, Ptr{Cdouble}, Ptr{Cdouble}, Cint, Cint, Ptr{Cdouble}, Ptr{Cdouble}),\n",
    "        D, V, w, m, n, u, run_time\n",
    "    )\n",
    "    return u, run_time    \n",
    "end\n",
    "\n",
    "const vecLDL_AVX_Unroll_lib = \"./vecLDL_AVX_Unroll.so\"\n",
    "function call_vecLDL_AVX_Unroll(D::Array{Float64,2}, V::Array{Float64,2}, w::Array{Float64,1}, m::Int, n::Int)\n",
    "    u = Array{Float64,1}(undef,n)\n",
    "    run_time = Array{Float64,}(undef,1)\n",
    "    ccall(\n",
    "        (:vecLDL_AVX_Unroll, vecLDL_AVX_Unroll_lib),\n",
    "        Cvoid,\n",
    "        (Ptr{Cdouble}, Ptr{Cdouble}, Ptr{Cdouble}, Cint, Cint, Ptr{Cdouble}, Ptr{Cdouble}),\n",
    "        D, V, w, m, n, u, run_time\n",
    "    )\n",
    "    return u, run_time    \n",
    "end"
   ]
  },
  {
   "cell_type": "code",
   "execution_count": 8,
   "metadata": {},
   "outputs": [
    {
     "name": "stdout",
     "output_type": "stream",
     "text": [
      "chol takes [0.045838536] seconds\n",
      "prodLDL takes [0.003928442] seconds\n",
      "vecLDL_AVX_OpenMP takes [0.003588751] seconds\n",
      "vecLDL_AVX_Unroll takes [0.001376369] seconds\n",
      "chol has the relative error 5.905318106074778e-15\n",
      "prodLDL has the relative error 3.628436964376391e-15\n",
      "vecLDL_AVX_OpenMP has the relative error 4.4620611378547815e-15\n",
      "vecLDL_AVX_Unroll has the relative error 4.4620611378547815e-15\n"
     ]
    }
   ],
   "source": [
    "using LinearAlgebra\n",
    "m = 50 # when m >=150, the vecLDL_AVX_OpenMP is more efficient than the vecLDL_AVX_Unroll \n",
    "n = 16*m\n",
    "D = Matrix(Diagonal(rand(1:1e3,n)))\n",
    "V = rand(n,m)\n",
    "w = 1.0e3*(2.0*rand(n).-1.0)\n",
    "u = (D+V*V')\\w;\n",
    "\n",
    "sleep(1)\n",
    "u_chol, run_time_chol = call_chol(D,V,w,m,n)\n",
    "println(\"chol takes $run_time_chol seconds\")\n",
    "\n",
    "\n",
    "sleep(1)\n",
    "u_prodLDL, run_time_prodLDL = call_prodLDL(D,V,w,m,n)\n",
    "println(\"prodLDL takes $run_time_prodLDL seconds\")\n",
    "\n",
    "sleep(1)\n",
    "u_vecLDL_AVX_OpenMP, run_time_vecLDL_AVX_OpenMP = call_vecLDL_AVX_OpenMP(D,V,w,m,n)\n",
    "println(\"vecLDL_AVX_OpenMP takes $run_time_vecLDL_AVX_OpenMP seconds\")\n",
    "\n",
    "sleep(1)\n",
    "u_vecLDL_AVX_Unroll, run_time_vecLDL_AVX_Unroll = call_vecLDL_AVX_Unroll(D,V,w,m,n)\n",
    "println(\"vecLDL_AVX_Unroll takes $run_time_vecLDL_AVX_Unroll seconds\")\n",
    "\n",
    "rel_err_chol = norm(u_chol-u)/norm(u)\n",
    "println(\"chol has the relative error $rel_err_chol\")\n",
    "\n",
    "rel_err_prodLDL = norm(u_prodLDL-u)/norm(u)\n",
    "println(\"prodLDL has the relative error $rel_err_prodLDL\")\n",
    "\n",
    "rel_err_vecLDL_AVX_OpenMP = norm(u_vecLDL_AVX_OpenMP-u)/norm(u)\n",
    "println(\"vecLDL_AVX_OpenMP has the relative error $rel_err_vecLDL_AVX_OpenMP\")\n",
    "\n",
    "rel_err_vecLDL_AVX_Unroll= norm(u_vecLDL_AVX_Unroll-u)/norm(u)\n",
    "println(\"vecLDL_AVX_Unroll has the relative error $rel_err_vecLDL_AVX_Unroll\")"
   ]
  }
 ],
 "metadata": {
  "kernelspec": {
   "display_name": "Julia 1.10.4",
   "language": "julia",
   "name": "julia-1.10"
  },
  "language_info": {
   "file_extension": ".jl",
   "mimetype": "application/julia",
   "name": "julia",
   "version": "1.10.4"
  }
 },
 "nbformat": 4,
 "nbformat_minor": 2
}
