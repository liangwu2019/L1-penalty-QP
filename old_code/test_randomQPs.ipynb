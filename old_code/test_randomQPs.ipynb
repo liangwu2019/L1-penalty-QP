{
 "cells": [
  {
   "cell_type": "code",
   "execution_count": 1,
   "metadata": {},
   "outputs": [
    {
     "data": {
      "text/plain": [
       "call_ETC_L1_QP (generic function with 1 method)"
      ]
     },
     "metadata": {},
     "output_type": "display_data"
    }
   ],
   "source": [
    "using Random, JuMP, Ipopt, LinearAlgebra, SparseArrays, OSQP\n",
    "\n",
    "const ETC_L1_QP_lib = \"./ETC_L1_QP.so\"\n",
    "function call_ETC_L1_QP(L_Q_inv::Array{Float64,2},V::Array{Float64,2}, c::Array{Float64,1}, G::Array{Float64,2}, g::Array{Float64,1}, rho::Array{Float64,1}, epsilon::Float64, m::Int, n::Int)\n",
    "    y = Array{Float64,1}(undef,m)\n",
    "    run_time = Array{Float64,}(undef,1)\n",
    "    ccall(\n",
    "        (:ETC_L1_QP, ETC_L1_QP_lib),\n",
    "        Cvoid,\n",
    "        (Ptr{Cdouble}, Ptr{Cdouble}, Ptr{Cdouble}, Ptr{Cdouble}, Ptr{Cdouble}, Ptr{Cdouble}, Cdouble, Cint, Cint, Ptr{Cdouble}, Ptr{Cdouble}),\n",
    "        L_Q_inv, V, c, G, g, rho, epsilon, m, n, y, run_time\n",
    "    )\n",
    "    return y, run_time    \n",
    "end"
   ]
  },
  {
   "cell_type": "code",
   "execution_count": 2,
   "metadata": {},
   "outputs": [
    {
     "name": "stdout",
     "output_type": "stream",
     "text": [
      "\n",
      "******************************************************************************\n",
      "This program contains Ipopt, a library for large-scale nonlinear optimization.\n",
      " Ipopt is released as open source code under the Eclipse Public License (EPL).\n",
      "         For more information visit https://github.com/coin-or/Ipopt\n",
      "******************************************************************************\n",
      "\n"
     ]
    }
   ],
   "source": [
    "Random.seed!(20240809)\n",
    "\n",
    "num_condition = 20\n",
    "num_randomQPs = 50\n",
    "\n",
    "m = 20\n",
    "n = 8*m\n",
    "\n",
    "Worst_case_rel_err_Ipopt_L1_QP = []\n",
    "Worst_case_sol_time_Ipopt_L1_QP = []\n",
    "\n",
    "Worst_case_rel_err_ETC_L1_QP = []\n",
    "Worst_case_sol_time_ETC_L1_QP = []\n",
    "\n",
    "for each_condition in 1:num_condition\n",
    "    cond_num = 1e1 * (1e6/1e1)^((each_condition-1)/(num_condition-1))\n",
    "    rho = 1 * cond_num .* ones(n);\n",
    "\n",
    "    Rel_err_Ipopt_L1_QP = []\n",
    "    Sol_time_Ipopt_L1_QP = []\n",
    "\n",
    "    Rel_err_ETC_L1_QP = []\n",
    "    Sol_time_ETC_L1_QP = []\n",
    "\n",
    "    for each_QP in 1:num_randomQPs\n",
    "        U = rand(m,m)\n",
    "        Q = U*Diagonal(rand(1:cond_num,m))*U'\n",
    "        Q = 0.5*(Q+Q')\n",
    "        c = cond_num*vec(rand(m,1))\n",
    "        G = sprandn(n,m,0.8)\n",
    "        G = Matrix(G)\n",
    "        g = rand(n)\n",
    "\n",
    "        # the base solution is calculated by Ipopt in solving the Original-QP\n",
    "        model_0 = Model(Ipopt.Optimizer)\n",
    "        set_attribute(model_0, \"print_level\", 0)\n",
    "        set_attribute(model_0, \"tol\", 1e-12)\n",
    "        @variable(model_0, y[1:m])\n",
    "        @objective(model_0, Min, 0.5 * y' * Q * y + c'*y)\n",
    "        for i in 1:n\n",
    "            @constraint(model_0, dot(G[i,:], y) <= g[i])\n",
    "        end\n",
    "        optimize!(model_0)\n",
    "        y = [value(y[i]) for i in 1:m];\n",
    "\n",
    "        # Using Ipopt to solve the L1-QP\n",
    "        H = G*inv(Q)*G'\n",
    "        h = G*inv(Q)*c + g\n",
    "        model = Model(Ipopt.Optimizer)\n",
    "        set_attribute(model, \"print_level\", 0)\n",
    "        set_attribute(model, \"tol\", 1e-12)\n",
    "        @variable(model, 0.0 <= z[i=1:n]<= rho[i])\n",
    "        @objective(model, Min, 0.5 * z' * H * z + h'*z)\n",
    "        optimize!(model)\n",
    "        z_Ipopt_L1_QP = [value(z[i]) for i in 1:n]\n",
    "        y_Ipopt_L1_QP = -inv(Q)*(c+G'*z_Ipopt_L1_QP)\n",
    "        Rel_err_Ipopt_L1_QP = [Rel_err_Ipopt_L1_QP; norm(y_Ipopt_L1_QP  - y)/norm(y)]\n",
    "        Sol_time_Ipopt_L1_QP = [Sol_time_Ipopt_L1_QP; MOI.get(model, MOI.SolveTimeSec())]\n",
    "\n",
    "        # Using ETCQP Solver to solve L1-QP\n",
    "        Q_chol = cholesky(Q)\n",
    "        L_Q_inv = Matrix(inv(Q_chol.L))\n",
    "        V = G*L_Q_inv'\n",
    "        epsilon = 1e-20\n",
    "        y_ETC_L1_QP, sol_time_ETC_L1_QP = call_ETC_L1_QP(L_Q_inv, V, c, G, g, rho, epsilon, m, n)\n",
    "        Rel_err_ETC_L1_QP = [Rel_err_ETC_L1_QP; norm(y_ETC_L1_QP-y)/norm(y)]\n",
    "        Sol_time_ETC_L1_QP = [Sol_time_ETC_L1_QP; sol_time_ETC_L1_QP]\n",
    "    end\n",
    "    Worst_case_rel_err_Ipopt_L1_QP = [Worst_case_rel_err_Ipopt_L1_QP; maximum(Rel_err_Ipopt_L1_QP)]\n",
    "    Worst_case_sol_time_Ipopt_L1_QP = [Worst_case_sol_time_Ipopt_L1_QP; maximum(Sol_time_Ipopt_L1_QP)]\n",
    "\n",
    "    Worst_case_rel_err_ETC_L1_QP = [Worst_case_rel_err_ETC_L1_QP; maximum(Rel_err_ETC_L1_QP)]\n",
    "    Worst_case_sol_time_ETC_L1_QP = [Worst_case_sol_time_ETC_L1_QP; maximum(Sol_time_ETC_L1_QP)]\n",
    "end"
   ]
  },
  {
   "cell_type": "code",
   "execution_count": 3,
   "metadata": {},
   "outputs": [
    {
     "name": "stdout",
     "output_type": "stream",
     "text": [
      "Ipopt_L1_QP has relative error: \n",
      "Any[3.2886652266501874e-7, 9.112214886825521e-7, 7.301447534901695e-7, 1.4057458170413615e-6, 3.4482642613953084e-7, 1.752846832569202e-7, 1.2021909117898411e-6, 1.3947465766065672e-6, 5.975369548065534e-7, 4.133999636078562e-6, 2.261806997757935e-7, 7.006341608681003e-6, 2.6756134520014525e-5, 1.2197759376366483e-7, 4.886706349291374e-7, 8.519514623989731e-7, 1.0356494659384376e-6, 1.727985443145688e-5, 2.1164886422121525e-7, 1.9739817881622066e-7]\n",
      "ETC_L1_QP has relative error: \n",
      "Any[1.913650394412832e-7, 2.607178536061794e-7, 4.442770894541579e-6, 4.6771257504139653e-7, 2.885282356077955e-7, 1.1976081931236238e-6, 4.390668524834006e-5, 6.438305724507412e-6, 7.996443730120402e-7, 3.0532827795160573e-6, 4.543044729589726e-7, 1.1563150958260575e-6, 2.3286636857685745e-5, 1.292387833165625e-7, 4.076535909850074e-6, 1.9215788669931992e-6, 5.237670055865379e-7, 1.1484898117307316e-5, 2.1157220628247515e-7, 4.967356522019114e-7]\n",
      "Ipopt_L1_QP has copmutation time: \n",
      "Any[0.024447917938232422, 0.03386712074279785, 0.0281219482421875, 0.03682708740234375, 0.038023948669433594, 0.03966712951660156, 0.029043912887573242, 0.03679513931274414, 0.04327201843261719, 0.05396294593811035, 0.048039913177490234, 0.06271505355834961, 0.06136202812194824, 0.05872917175292969, 0.09822201728820801, 0.06640291213989258, 0.08248710632324219, 0.09521317481994629, 0.08491396903991699, 0.08350014686584473]\n",
      "ETC_L1_QP has copmutation time: \n",
      "Any[0.033774358000000004, 0.033278108, 0.03268765799999995, 0.031254742, 0.033524983, 0.031827852000000004, 0.034415354, 0.044629446, 0.034185442, 0.043466584, 0.046612400000000005, 0.046732813000000005, 0.032881572000000005, 0.034519322000000005, 0.033039616, 0.031799876000000005, 0.031169109, 0.033621773, 0.034426246, 0.032659042]\n"
     ]
    }
   ],
   "source": [
    "println(\"Ipopt_L1_QP has relative error: \")\n",
    "println(Worst_case_rel_err_Ipopt_L1_QP)\n",
    "println(\"ETC_L1_QP has relative error: \")\n",
    "println(Worst_case_rel_err_ETC_L1_QP)\n",
    "\n",
    "println(\"Ipopt_L1_QP has copmutation time: \")\n",
    "println(Worst_case_sol_time_Ipopt_L1_QP)\n",
    "println(\"ETC_L1_QP has copmutation time: \")\n",
    "println(Worst_case_sol_time_ETC_L1_QP)"
   ]
  },
  {
   "cell_type": "code",
   "execution_count": 4,
   "metadata": {},
   "outputs": [],
   "source": [
    "num_condition = 4\n",
    "num_randomQPs = 4\n",
    "\n",
    "Worst_case_rel_err_OSQP_L1_QP = []\n",
    "Worst_case_sol_time_OSQP_L1_QP = []\n",
    "\n",
    "for each_condition in 1:num_condition\n",
    "    cond_num = 1e1 * (1e6/1e1)^((each_condition-1)/(num_condition-1))\n",
    "    rho = 1 * cond_num .* ones(n);\n",
    "\n",
    "    Rel_err_OSQP_L1_QP = []\n",
    "    Sol_time_OSQP_L1_QP = []\n",
    "\n",
    "    for each_QP in 1:num_randomQPs\n",
    "        U = rand(m,m)\n",
    "        Q = U*Diagonal(rand(1:cond_num,m))*U'\n",
    "        Q = 0.5*(Q+Q')\n",
    "        c = cond_num*vec(rand(m,1))\n",
    "        G = sprandn(n,m,0.8)\n",
    "        G = Matrix(G)\n",
    "        g = rand(n)\n",
    "\n",
    "        # the base solution is calculated by Ipopt in solving the Original-QP\n",
    "        model_0 = Model(Ipopt.Optimizer)\n",
    "        set_attribute(model_0, \"print_level\", 0)\n",
    "        set_attribute(model_0, \"tol\", 1e-12)\n",
    "        @variable(model_0, y[1:m])\n",
    "        @objective(model_0, Min, 0.5 * y' * Q * y + c'*y)\n",
    "        for i in 1:n\n",
    "            @constraint(model_0, dot(G[i,:], y) <= g[i])\n",
    "        end\n",
    "        optimize!(model_0)\n",
    "        y = [value(y[i]) for i in 1:m];\n",
    "        \n",
    "        # Using OSQP to solve the L1-QP\n",
    "        H = G*inv(Q)*G'\n",
    "        h = G*inv(Q)*c + g\n",
    "        prob = OSQP.Model()\n",
    "        OSQP.setup!(prob; P=sparse(H), q=h, A=sparse(Diagonal(ones(length(h)))), l=zeros(length(h)), u=rho, eps_abs=1e-20, eps_rel=1e-20, verbose=0, max_iter=1e5, polish=1)\n",
    "        res = OSQP.solve!(prob)\n",
    "        z_OSQP_L1_QP = res.x\n",
    "        y_OSQP_L1_QP = -inv(Q)*(c+G'*z_OSQP_L1_QP)\n",
    "        Rel_err_OSQP_L1_QP = [Rel_err_OSQP_L1_QP; norm(y_OSQP_L1_QP-y)/norm(y)]\n",
    "        Sol_time_OSQP_L1_QP = [Sol_time_OSQP_L1_QP; res.info.run_time]\n",
    "    end\n",
    "    Worst_case_rel_err_OSQP_L1_QP = [Worst_case_rel_err_OSQP_L1_QP; maximum(Rel_err_OSQP_L1_QP)]\n",
    "    Worst_case_sol_time_OSQP_L1_QP = [Worst_case_sol_time_OSQP_L1_QP; maximum(Sol_time_OSQP_L1_QP)]\n",
    "end"
   ]
  },
  {
   "cell_type": "code",
   "execution_count": 5,
   "metadata": {},
   "outputs": [
    {
     "name": "stdout",
     "output_type": "stream",
     "text": [
      "OSQPL1_QP has relative error: \n",
      "Any[1.7474949830440011e-7, 1.1939798972140675e-7, 1.0504796236689326e-7, 0.025028198667736767]\n",
      "OSQP_L1_QP has copmutation time: \n",
      "Any[2.138161245, 2.109621077, 2.101454365, 2.1021723210000003]\n"
     ]
    }
   ],
   "source": [
    "println(\"OSQPL1_QP has relative error: \")\n",
    "println(Worst_case_rel_err_OSQP_L1_QP)\n",
    "\n",
    "println(\"OSQP_L1_QP has copmutation time: \")\n",
    "println(Worst_case_sol_time_OSQP_L1_QP)\n"
   ]
  }
 ],
 "metadata": {
  "kernelspec": {
   "display_name": "Julia 1.10.4",
   "language": "julia",
   "name": "julia-1.10"
  },
  "language_info": {
   "file_extension": ".jl",
   "mimetype": "application/julia",
   "name": "julia",
   "version": "1.10.4"
  }
 },
 "nbformat": 4,
 "nbformat_minor": 2
}
